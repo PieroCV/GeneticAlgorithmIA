{
 "cells": [
  {
   "cell_type": "markdown",
   "metadata": {
    "colab_type": "text",
    "id": "9Vpa-UTAk-IP"
   },
   "source": [
    "# Proyecto del curso de Computación Evolutiva\n",
    "<b> Diplomatura de Especialización en Desarrollo de Aplicaciones con Inteligencia Artificial</b>\n",
    "\n",
    "\n"
   ]
  },
  {
   "cell_type": "markdown",
   "metadata": {},
   "source": [
    "### Librerias a usar"
   ]
  },
  {
   "cell_type": "code",
   "execution_count": 2,
   "metadata": {},
   "outputs": [],
   "source": [
    "import sys\n",
    "import time\n",
    "import numpy as np\n",
    "import random\n",
    "from copy import deepcopy\n",
    "import matplotlib.pyplot as plt"
   ]
  },
  {
   "cell_type": "markdown",
   "metadata": {},
   "source": [
    "### Define el objeto Item en el problema\n",
    "Un objeto de clase Item almacena el valor del item y el area del item "
   ]
  },
  {
   "cell_type": "code",
   "execution_count": 3,
   "metadata": {},
   "outputs": [],
   "source": [
    "class Item(object):\n",
    "    def __init__(self, area):\n",
    "        self.area  = area  # Area que ocupa el item en un bin."
   ]
  },
  {
   "cell_type": "markdown",
   "metadata": {},
   "source": [
    "### Define el objeto Bin en el problema\n",
    "Un objeto de clase Bin almacena el valor del bin y el area disponible"
   ]
  },
  {
   "cell_type": "code",
   "execution_count": 4,
   "metadata": {},
   "outputs": [],
   "source": [
    "class Bin(object):\n",
    "    def __init__(self, area):\n",
    "        self.area  = area  # Area disponible en el bin"
   ]
  },
  {
   "cell_type": "markdown",
   "metadata": {
    "colab_type": "text",
    "id": "MnVcuNVdk-IS"
   },
   "source": [
    "### Define la estructura de un individuo en el AG con sus operadores genéticos \n",
    "\n",
    "Implementa el individuo del AG. Un individuo tiene un cromosoma que es una lista de NUM_ITEMS elementos (genes),\n",
    "cada gen i puede asumir N posibles alelos: Donde N es la cantidad de Bins en total.\n"
   ]
  },
  {
   "cell_type": "code",
   "execution_count": 42,
   "metadata": {
    "colab": {},
    "colab_type": "code",
    "id": "JjbNgyCdk-IU"
   },
   "outputs": [],
   "source": [
    "class Individual:\n",
    "    def __init__(self, chromosome):  # el constructor recibe un cromosoma\n",
    "        self.chromosome = chromosome[:]  \n",
    "        self.fitness = -1  # -1 indica que el individuo no ha sido evaluado\n",
    "\n",
    "    def crossover_onepoint(self, other):\n",
    "        \"Retorna dos nuevos individuos del cruzamiento de un punto entre individuos self y other \"\n",
    "        c = random.randrange(len(self.chromosome))\n",
    "        ind1 = Individual(self.chromosome[:c] + other.chromosome[c:])\n",
    "        ind2 = Individual(other.chromosome[:c] + self.chromosome[c:])\n",
    "        return [ind1, ind2]   \n",
    "    \n",
    "    def crossover_uniform(self, other):\n",
    "        chromosome1 = []\n",
    "        chromosome2 = []\n",
    "        \"Retorna dos nuevos individuos del cruzamiento uniforme entre self y other \"\n",
    "        for i in range(len(self.chromosome)):\n",
    "            if random.uniform(0, 1) < 0.5:\n",
    "                chromosome1.append(self.chromosome[i])\n",
    "                chromosome2.append(other.chromosome[i])\n",
    "            else:\n",
    "                chromosome1.append(other.chromosome[i])\n",
    "                chromosome2.append(self.chromosome[i])\n",
    "        ind1 = Individual(chromosome1)\n",
    "        ind2 = Individual(chromosome2)\n",
    "        return [ind1, ind2] \n",
    "\n",
    "    def mutation_flip(self):\n",
    "        \"Cambia aleatoriamente el alelo de un gen.\"\n",
    "        new_chromosome = deepcopy(self.chromosome)\n",
    "        mutGene = random.randrange(0,len(new_chromosome))   # escoge un gen para mutar\n",
    "        if new_chromosome[mutGene] == 0:\n",
    "            new_chromosome[mutGene] = 1\n",
    "        else:\n",
    "            new_chromosome[mutGene] = 0\n",
    "        return Individual(new_chromosome)\n",
    "    \n",
    "    def mutation_inversion(self):\n",
    "        \"\"\"\n",
    "        Invierte el orden de todos los genes comprendidos entre 2 puntos \n",
    "        seleccionados al azar en el cromosoma\n",
    "        \"\"\"\n",
    "        new_chromosome = deepcopy(self.chromosome)\n",
    "        p1 = random.randrange(0,len(new_chromosome))\n",
    "        p2 = p1\n",
    "        while p2 == p1:\n",
    "            p2 = random.randrange(0,len(new_chromosome))\n",
    "        if p2 > p1:\n",
    "            new_chromosome[p1:p2] = new_chromosome[p1:p2][::-1]\n",
    "        else:\n",
    "            new_chromosome[p2:p1] = new_chromosome[p2:p1][::-1]\n",
    "        return Individual(new_chromosome)\n",
    "    \n",
    "    def mutation_uniform(self):\n",
    "        \"\"\"\n",
    "        Genera una mutación uniforme en todo dado un valor aleatorio de probabilidad\n",
    "        \"\"\"\n",
    "        new_chromosome = deepcopy(self.chromosome)\n",
    "        prob = random.random()\n",
    "        new_chromosome = [random.randint(0,len(BinPool)) if random.uniform(0, 1)<prob else a for a in new_chromosome]\n",
    "        return Individual(new_chromosome)"
   ]
  },
  {
   "cell_type": "markdown",
   "metadata": {
    "colab_type": "text",
    "id": "fJsv0S_8k-IZ"
   },
   "source": [
    "### Funcion para obtener el fitness de un cromosoma"
   ]
  },
  {
   "cell_type": "code",
   "execution_count": 43,
   "metadata": {
    "colab": {},
    "colab_type": "code",
    "id": "x-OUH07tk-Ic"
   },
   "outputs": [],
   "source": [
    "def get_fitness(chromosome, items,bins):\n",
    "    \"\"\"Retorna el fitness del cromosoma pasado. Fitness es el valor total de los items incluidos en el cromosoma\n",
    "       Si el peso total es mayor que max_weight -> el fitness es 0\"\"\"\n",
    "    fitness = 0 # initialize fitness to 0\n",
    "    sum_weight = [0]*len(bins)\n",
    "    for i in range(len(items)):\n",
    "        if chromosome[i]:\n",
    "            try:\n",
    "                sum_weight[chromosome[i]-1] += items[i].area\n",
    "                fitness += items[i].area\n",
    "            except:\n",
    "                print(chromosome[i],len(sum_weight))\n",
    "                assert False\n",
    "    for i,bin_weight in enumerate(sum_weight):\n",
    "        if bins[i].area < bin_weight:\n",
    "            return 0\n",
    "    return fitness"
   ]
  },
  {
   "cell_type": "markdown",
   "metadata": {
    "colab_type": "text",
    "id": "Xw6sR4v7k-Ii"
   },
   "source": [
    "### Funcion para evaluar una población de individuos "
   ]
  },
  {
   "cell_type": "code",
   "execution_count": 44,
   "metadata": {
    "colab": {},
    "colab_type": "code",
    "id": "Pqtbl-Zlk-Ij"
   },
   "outputs": [],
   "source": [
    "def evaluate_population(population, items, bins):\n",
    "    \"\"\" Evalua una poblacion de individuos con la funcion get_fitness \"\"\"\n",
    "    popsize = len(population)\n",
    "    for i in range(popsize):\n",
    "        if population[i].fitness == -1:    # evalua solo si el individuo no esta evaluado\n",
    "            population[i].fitness = get_fitness(population[i].chromosome, items,bins)                                   "
   ]
  },
  {
   "cell_type": "markdown",
   "metadata": {
    "colab_type": "text",
    "id": "PuScmwjyk-In"
   },
   "source": [
    "### Funcion para inicializar aleatoriamente una población de individuos"
   ]
  },
  {
   "cell_type": "code",
   "execution_count": 45,
   "metadata": {
    "colab": {},
    "colab_type": "code",
    "id": "swoZMGwdk-Io"
   },
   "outputs": [],
   "source": [
    "def init_population(popsize, chromosome_size,size_bins, zeroes=False):\n",
    "    \"\"\"Inicializa una poblacion de popsize individuos, cada cromosoma de individuo de tamaño chromosome_size.\n",
    "       Si zeroes==False La inicializacion es aleatoria (por defecto), si zeroes=True los cromosomas son vectores de ceros\"\"\"\n",
    "    population = []\n",
    "    for i in range(popsize):\n",
    "        if zeroes:\n",
    "            new_chromosome = [0 for j in range(chromosome_size)]  # vector de zeros de tamaño chromosome_size\n",
    "        else:\n",
    "            new_chromosome = [random.randint(0,size_bins) for j in range(chromosome_size)]  #vector aleatorio de 0s y 1s de tamaño chromosome_size\n",
    "        \n",
    "        population.append( Individual(new_chromosome) )\n",
    "    return population"
   ]
  },
  {
   "cell_type": "markdown",
   "metadata": {
    "colab_type": "text",
    "id": "9IhMfqBDk-It"
   },
   "source": [
    "### Operadores de seleccion de padres"
   ]
  },
  {
   "cell_type": "markdown",
   "metadata": {},
   "source": [
    "#### Seleccion por Ruleta"
   ]
  },
  {
   "cell_type": "code",
   "execution_count": 46,
   "metadata": {
    "colab": {},
    "colab_type": "code",
    "id": "KyRz3__4k-It"
   },
   "outputs": [],
   "source": [
    "def select_parents_roulette(population):\n",
    "    popsize = len(population)\n",
    "    \n",
    "    # Escoje el primer padre\n",
    "    sumfitness = sum([indiv.fitness for indiv in population])  # suma total del fitness de la poblacion\n",
    "    pickfitness = random.uniform(0, sumfitness)   # escoge un numero aleatorio entre 0 y sumfitness\n",
    "    cumfitness = 0     # fitness acumulado\n",
    "    iParent1 = random.randint(0,popsize-1)\n",
    "    for i in range(popsize):\n",
    "        cumfitness += population[i].fitness\n",
    "        if cumfitness > pickfitness: \n",
    "            iParent1 = i\n",
    "            break\n",
    "    \n",
    "    # Escoje el segundo padre, desconsiderando el primer padre\n",
    "    sumfitness = sumfitness - population[iParent1].fitness # retira el fitness del padre ya escogido\n",
    "    pickfitness = random.uniform(0, sumfitness)   # escoge un numero aleatorio entre 0 y sumfitness\n",
    "    cumfitness = 0     # fitness acumulado\n",
    "    iParent2 = random.randint(0,popsize-1)\n",
    "    while iParent2 == iParent1:\n",
    "        iParent2 = random.randint(0,popsize-1)\n",
    "    for i in range(popsize):\n",
    "        if i == iParent1: continue   # si es el primer padre \n",
    "        cumfitness += population[i].fitness\n",
    "        if cumfitness > pickfitness: \n",
    "            iParent2 = i\n",
    "            break        \n",
    "    return (population[iParent1], population[iParent2])"
   ]
  },
  {
   "cell_type": "markdown",
   "metadata": {},
   "source": [
    "#### Seleccion por Torneo"
   ]
  },
  {
   "cell_type": "code",
   "execution_count": 47,
   "metadata": {},
   "outputs": [],
   "source": [
    "def select_parents_tournament(population, tournament_size):\n",
    "    # Escoje el primer padre\n",
    "    list_indiv=[]\n",
    "    x1 = np.random.permutation(len(population) )\n",
    "    y1= x1[0:tournament_size]\n",
    "    for i in range(tournament_size):\n",
    "        list_indiv.append(population[y1[i]].fitness)\n",
    "    \n",
    "    iParent1=np.argmax(list_indiv)\n",
    "    \n",
    "    # Escoje el segundo padre, desconsiderando el primer padre   \n",
    "    x2 = np.delete(x1, iParent1)\n",
    "    x2 = np.random.permutation(x2)\n",
    "    list_indiv=[]\n",
    "    y2= x2[0:tournament_size]\n",
    "    for i in range(tournament_size):\n",
    "        list_indiv.append(population[y2[i]].fitness)\n",
    "    iParent2=np.argmax(list_indiv)\n",
    "    \n",
    "    return (population[x1[iParent1]],population[x2[iParent2]])"
   ]
  },
  {
   "cell_type": "markdown",
   "metadata": {},
   "source": [
    "### Operadores de Seleccion de sobrevivientes\n"
   ]
  },
  {
   "cell_type": "markdown",
   "metadata": {
    "colab_type": "text",
    "id": "e8CZqrC4k-Ix"
   },
   "source": [
    "#### Función de selección de la poblacion para la sgte generación por ranking\n",
    "Selecciona la población siguiente ranqueando los individuos de la poblacion actual (population) y la poblacion descendencia (offspring_population) y escogiendo los mejores numsurvivors  individuos "
   ]
  },
  {
   "cell_type": "code",
   "execution_count": 48,
   "metadata": {
    "colab": {},
    "colab_type": "code",
    "id": "Ua4QyA9hk-Ix"
   },
   "outputs": [],
   "source": [
    "def select_survivors_ranking(population, offspring_population, numsurvivors):\n",
    "    next_population = []\n",
    "    population.extend(offspring_population) # une las dos poblaciones\n",
    "    isurvivors = sorted(range(len(population)), key=lambda i: population[i].fitness, reverse=True)[:numsurvivors]\n",
    "    for i in range(numsurvivors):\n",
    "        next_population.append(population[isurvivors[i]])\n",
    "    return next_population"
   ]
  },
  {
   "cell_type": "markdown",
   "metadata": {
    "colab_type": "text",
    "id": "akvirSobk-I2"
   },
   "source": [
    "### Algoritmo Genetico para encontrar soluciones al problema\n",
    "Recibe una poblacion inicial, lista de items,lista de bins, numero de generaciones (ngen), taza de mutación (pmut), operador de cruzamiento (crossover), operador de mutacion (mutation), metodo de seleccion de padres (selection_parents_method), metodo de seleccion de sobrevivientes (selection_survivors_method) "
   ]
  },
  {
   "cell_type": "code",
   "execution_count": 49,
   "metadata": {
    "colab": {},
    "colab_type": "code",
    "id": "s_rCJHyMk-I4"
   },
   "outputs": [],
   "source": [
    "def genetic_algorithm(population, items, bins, ngen=100, pmut=0.1, \n",
    "                      crossover=\"onepoint\", mutation=\"flip\", \n",
    "                      selection_parents_method=\"roulette\", \n",
    "                      selection_survivors_method=\"ranking\"):\n",
    "    \"\"\"Algoritmo Genetico para el problema de la mochila\n",
    "        items:      pool de items a escoger para la mochila. \n",
    "                    Debe ser una lista de objetos de clase Item\n",
    "        max_weight: maximo peso que puede soportar la mochila\n",
    "        ngen:       maximo numero de generaciones \n",
    "        pmut:       tasa de mutacion\n",
    "        crossover:  operador de cruzamiento\n",
    "        mutation:   operador de mutacion\n",
    "        selection_parents_method: método de selección de padres para cruzamiento\n",
    "        selection_survivors_method: método de selección de sobrevivientes \n",
    "    \"\"\"\n",
    "    \n",
    "    popsize = len(population)\n",
    "    evaluate_population(population, items, bins)  # evalua la poblacion inicial\n",
    "    ibest = sorted(range(len(population)), key=lambda i: population[i].fitness, reverse=True)[:1]  # mejor individuo\n",
    "    bestfitness = [population[ibest[0]].fitness]  # fitness del mejor individuo\n",
    "    print(\"Poblacion inicial, best_fitness = {}\".format(population[ibest[0]].fitness))\n",
    "    \n",
    "    for g in range(ngen):   # Por cada generacion\n",
    "\n",
    "        ## Selecciona parejas de individuos (mating_pool) para cruzamiento con el metodo de la ruleta\n",
    "        mating_pool = []\n",
    "        for i in range(int(popsize/2)):\n",
    "            if selection_parents_method == \"roulette\":\n",
    "                mating_pool.append(select_parents_roulette(population))\n",
    "            elif selection_parents_method == \"tournament\":\n",
    "                mating_pool.append(select_parents_tournament(population, 3))\n",
    "            else:\n",
    "                raise NotImplementedError\n",
    "        ## Crea la poblacion descendencia cruzando las parejas del mating pool \n",
    "        offspring_population = []\n",
    "        for i in range(len(mating_pool)): \n",
    "            if crossover == \"onepoint\":\n",
    "                offspring_population.extend( mating_pool[i][0].crossover_onepoint(mating_pool[i][1]) ) # cruzamiento 1 punto\n",
    "            elif crossover == \"uniform\":\n",
    "                offspring_population.extend( mating_pool[i][0].crossover_uniform(mating_pool[i][1]) ) # cruzamiento uniforme\n",
    "            else:\n",
    "                raise NotImplementedError\n",
    "\n",
    "        ## Aplica el operador de mutacion con probabilidad pmut en cada hijo generado\n",
    "        for i in range(len(offspring_population)):\n",
    "            if random.uniform(0, 1) < pmut: \n",
    "                if mutation == \"flip\":\n",
    "                    offspring_population[i] = offspring_population[i].mutation_flip() # cambia el alelo de un gen\n",
    "                elif mutation == \"inversion\":\n",
    "                    offspring_population[i] = offspring_population[i].mutation_inversion() # invierte todos los genes entre 2 puntos al azar\n",
    "                elif mutation == \"uniform\":\n",
    "                    offspring_population[i] = offspring_population[i].mutation_uniform() # invierte todos los genes entre 2 puntos al azar\n",
    "                else:\n",
    "                    raise NotImplementedError   \n",
    "        \n",
    "        ## Evalua la poblacion descendencia creada\n",
    "        evaluate_population(offspring_population, items, bins)   # evalua la poblacion descendencia\n",
    "        \n",
    "        ## Selecciona individuos para la sgte. generación \n",
    "        if selection_survivors_method == \"ranking\":\n",
    "            population = select_survivors_ranking(population, offspring_population, popsize) #metodo de ranking\n",
    "        else:\n",
    "            raise NotImplementedError\n",
    "            \n",
    "        ## Almacena la historia del fitness del mejor individuo\n",
    "        ibest = sorted(range(len(population)), key=lambda i: population[i].fitness, reverse=True)[:1]\n",
    "        bestfitness.append(population[ibest[0]].fitness)\n",
    "        \n",
    "        if (g % 10 == 0):  # muestra resultados cada 10 generaciones\n",
    "            print(\"generacion {}, (Mejor fitness = {})\".format(g, population[ibest[0]].fitness))\n",
    "        \n",
    "    print(\"Mejor individuo en la ultima generacion = {} (fitness = {})\".format(population[ibest[0]].chromosome, population[ibest[0]].fitness))\n",
    "    return population[ibest[0]], bestfitness  # devuelve el mejor individuo y la lista de mejores fitness x gen"
   ]
  },
  {
   "cell_type": "markdown",
   "metadata": {
    "colab_type": "text",
    "id": "UBJge-E7k-I8"
   },
   "source": [
    " ## Probando el Algoritmo genetico"
   ]
  },
  {
   "cell_type": "markdown",
   "metadata": {},
   "source": [
    "<b>Define el pool de items a colocar y bins disppnivles </b>"
   ]
  },
  {
   "cell_type": "code",
   "execution_count": 94,
   "metadata": {},
   "outputs": [],
   "source": [
    "NUM_ITEMS = 10        # numero de items\n",
    "NUM_BINS = 5        # numero de items\n",
    "MAX_ITEM_AREA = 30  # maximo peso posible de cada  item\n",
    "MAX_BIN_AREA = 50   # maximo valor posible de cada  item\n",
    "#pool de items generado aleatoriamente\n",
    "ItemPool = [ Item(random.randint(0,MAX_ITEM_AREA)) for x in range (0,NUM_ITEMS)]\n",
    "BinPool = [ Bin(random.randint(0,MAX_BIN_AREA)) for x in range (0,NUM_BINS)]"
   ]
  },
  {
   "cell_type": "markdown",
   "metadata": {},
   "source": [
    "<b> Ejecuta el algoritmo genetico </b>"
   ]
  },
  {
   "cell_type": "code",
   "execution_count": 95,
   "metadata": {
    "colab": {
     "base_uri": "https://localhost:8080/",
     "height": 813
    },
    "colab_type": "code",
    "executionInfo": {
     "elapsed": 1280,
     "status": "ok",
     "timestamp": 1556600868083,
     "user": {
      "displayName": "FRANCO PARIASCA TREVEJO",
      "photoUrl": "",
      "userId": "00191544209069005587"
     },
     "user_tz": 300
    },
    "id": "ITMAb6-Yk-I9",
    "outputId": "81fc29f6-0244-409a-acd1-594b32bd09bc",
    "scrolled": true
   },
   "outputs": [],
   "source": [
    "## Hiperparametros del algoritmo genetico\n",
    "POPSIZE = 100       # numero de individuos\n",
    "GENERATIONS = 1000   # numero de generaciones\n",
    "PMUT = 0.9       # taza de mutacion\n",
    "\n",
    "## Inicializa una poblacion inicial de forma aleatoria\n",
    "population = init_population(POPSIZE, NUM_ITEMS,len(BinPool))"
   ]
  },
  {
   "cell_type": "code",
   "execution_count": 96,
   "metadata": {
    "colab": {
     "base_uri": "https://localhost:8080/",
     "height": 813
    },
    "colab_type": "code",
    "executionInfo": {
     "elapsed": 1280,
     "status": "ok",
     "timestamp": 1556600868083,
     "user": {
      "displayName": "FRANCO PARIASCA TREVEJO",
      "photoUrl": "",
      "userId": "00191544209069005587"
     },
     "user_tz": 300
    },
    "id": "ITMAb6-Yk-I9",
    "outputId": "81fc29f6-0244-409a-acd1-594b32bd09bc",
    "scrolled": true
   },
   "outputs": [
    {
     "name": "stdout",
     "output_type": "stream",
     "text": [
      "Poblacion inicial, best_fitness = 0\n",
      "generacion 0, (Mejor fitness = 0)\n",
      "generacion 10, (Mejor fitness = 129)\n",
      "generacion 20, (Mejor fitness = 129)\n",
      "generacion 30, (Mejor fitness = 129)\n",
      "generacion 40, (Mejor fitness = 131)\n",
      "generacion 50, (Mejor fitness = 136)\n",
      "generacion 60, (Mejor fitness = 136)\n",
      "generacion 70, (Mejor fitness = 136)\n",
      "generacion 80, (Mejor fitness = 136)\n",
      "generacion 90, (Mejor fitness = 136)\n",
      "generacion 100, (Mejor fitness = 136)\n",
      "generacion 110, (Mejor fitness = 136)\n",
      "generacion 120, (Mejor fitness = 136)\n",
      "generacion 130, (Mejor fitness = 136)\n",
      "generacion 140, (Mejor fitness = 136)\n",
      "generacion 150, (Mejor fitness = 136)\n",
      "generacion 160, (Mejor fitness = 136)\n",
      "generacion 170, (Mejor fitness = 136)\n",
      "generacion 180, (Mejor fitness = 136)\n",
      "generacion 190, (Mejor fitness = 136)\n",
      "generacion 200, (Mejor fitness = 136)\n",
      "generacion 210, (Mejor fitness = 138)\n",
      "generacion 220, (Mejor fitness = 138)\n",
      "generacion 230, (Mejor fitness = 138)\n",
      "generacion 240, (Mejor fitness = 138)\n",
      "generacion 250, (Mejor fitness = 138)\n",
      "generacion 260, (Mejor fitness = 138)\n",
      "generacion 270, (Mejor fitness = 138)\n",
      "generacion 280, (Mejor fitness = 138)\n",
      "generacion 290, (Mejor fitness = 138)\n",
      "generacion 300, (Mejor fitness = 138)\n",
      "generacion 310, (Mejor fitness = 138)\n",
      "generacion 320, (Mejor fitness = 138)\n",
      "generacion 330, (Mejor fitness = 138)\n",
      "generacion 340, (Mejor fitness = 138)\n",
      "generacion 350, (Mejor fitness = 138)\n",
      "generacion 360, (Mejor fitness = 138)\n",
      "generacion 370, (Mejor fitness = 138)\n",
      "generacion 380, (Mejor fitness = 138)\n",
      "generacion 390, (Mejor fitness = 138)\n",
      "generacion 400, (Mejor fitness = 138)\n",
      "generacion 410, (Mejor fitness = 138)\n",
      "generacion 420, (Mejor fitness = 138)\n",
      "generacion 430, (Mejor fitness = 138)\n",
      "generacion 440, (Mejor fitness = 138)\n",
      "generacion 450, (Mejor fitness = 138)\n",
      "generacion 460, (Mejor fitness = 138)\n",
      "generacion 470, (Mejor fitness = 138)\n",
      "generacion 480, (Mejor fitness = 138)\n",
      "generacion 490, (Mejor fitness = 138)\n",
      "generacion 500, (Mejor fitness = 138)\n",
      "generacion 510, (Mejor fitness = 138)\n",
      "generacion 520, (Mejor fitness = 138)\n",
      "generacion 530, (Mejor fitness = 138)\n",
      "generacion 540, (Mejor fitness = 138)\n",
      "generacion 550, (Mejor fitness = 138)\n",
      "generacion 560, (Mejor fitness = 138)\n",
      "generacion 570, (Mejor fitness = 138)\n",
      "generacion 580, (Mejor fitness = 138)\n",
      "generacion 590, (Mejor fitness = 138)\n",
      "generacion 600, (Mejor fitness = 138)\n",
      "generacion 610, (Mejor fitness = 138)\n",
      "generacion 620, (Mejor fitness = 138)\n",
      "generacion 630, (Mejor fitness = 138)\n",
      "generacion 640, (Mejor fitness = 138)\n",
      "generacion 650, (Mejor fitness = 138)\n",
      "generacion 660, (Mejor fitness = 138)\n",
      "generacion 670, (Mejor fitness = 138)\n",
      "generacion 680, (Mejor fitness = 138)\n",
      "generacion 690, (Mejor fitness = 138)\n",
      "generacion 700, (Mejor fitness = 138)\n",
      "generacion 710, (Mejor fitness = 138)\n",
      "generacion 720, (Mejor fitness = 138)\n",
      "generacion 730, (Mejor fitness = 138)\n",
      "generacion 740, (Mejor fitness = 138)\n",
      "generacion 750, (Mejor fitness = 138)\n",
      "generacion 760, (Mejor fitness = 138)\n",
      "generacion 770, (Mejor fitness = 138)\n",
      "generacion 780, (Mejor fitness = 138)\n",
      "generacion 790, (Mejor fitness = 138)\n",
      "generacion 800, (Mejor fitness = 138)\n",
      "generacion 810, (Mejor fitness = 138)\n",
      "generacion 820, (Mejor fitness = 138)\n",
      "generacion 830, (Mejor fitness = 138)\n",
      "generacion 840, (Mejor fitness = 138)\n",
      "generacion 850, (Mejor fitness = 138)\n",
      "generacion 860, (Mejor fitness = 138)\n",
      "generacion 870, (Mejor fitness = 138)\n",
      "generacion 880, (Mejor fitness = 138)\n",
      "generacion 890, (Mejor fitness = 138)\n",
      "generacion 900, (Mejor fitness = 138)\n",
      "generacion 910, (Mejor fitness = 138)\n",
      "generacion 920, (Mejor fitness = 138)\n",
      "generacion 930, (Mejor fitness = 138)\n",
      "generacion 940, (Mejor fitness = 138)\n",
      "generacion 950, (Mejor fitness = 138)\n",
      "generacion 960, (Mejor fitness = 138)\n",
      "generacion 970, (Mejor fitness = 138)\n",
      "generacion 980, (Mejor fitness = 138)\n",
      "generacion 990, (Mejor fitness = 138)\n",
      "Mejor individuo en la ultima generacion = [3, 1, 3, 1, 2, 5, 1, 3, 0, 0] (fitness = 138)\n"
     ]
    }
   ],
   "source": [
    "# Evolue la poblacion con el algoritmo genetico (cruzamiento 'onepoint', )\n",
    "best_ind, bestfitness = genetic_algorithm(population, ItemPool, BinPool, GENERATIONS, PMUT, \n",
    "                                          crossover=\"uniform\", mutation=\"uniform\", \n",
    "                                          selection_parents_method = 'roulette', \n",
    "                                          selection_survivors_method = 'ranking')"
   ]
  },
  {
   "cell_type": "code",
   "execution_count": 90,
   "metadata": {},
   "outputs": [
    {
     "data": {
      "image/png": "[encoded data removed]",
      "text/plain": [
       "<Figure size 432x288 with 1 Axes>"
      ]
     },
     "metadata": {
      "needs_background": "light"
     },
     "output_type": "display_data"
    }
   ],
   "source": [
    "plt.plot(bestfitness)\n",
    "plt.show()"
   ]
  },
  {
   "cell_type": "code",
   "execution_count": null,
   "metadata": {},
   "outputs": [],
   "source": []
  }
 ],
 "metadata": {
  "colab": {
   "collapsed_sections": [],
   "name": "Practica2-20135214.ipynb",
   "provenance": [],
   "version": "0.3.2"
  },
  "kernelspec": {
   "display_name": "Python 3",
   "language": "python",
   "name": "python3"
  },
  "language_info": {
   "codemirror_mode": {
    "name": "ipython",
    "version": 3
   },
   "file_extension": ".py",
   "mimetype": "text/x-python",
   "name": "python",
   "nbconvert_exporter": "python",
   "pygments_lexer": "ipython3",
   "version": "3.6.9"
  }
 },
 "nbformat": 4,
 "nbformat_minor": 4
}
